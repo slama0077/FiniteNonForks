{
 "cells": [
  {
   "cell_type": "markdown",
   "metadata": {
    "collapsed": false
   },
   "source": [
    "Jupyter worksheet to make sure the code works correctly\n",
    "\n"
   ]
  },
  {
   "cell_type": "code",
   "execution_count": 13,
   "metadata": {
    "collapsed": false
   },
   "outputs": [
    {
     "data": {
      "text/plain": [
       "['__add__',\n",
       " '__class__',\n",
       " '__delattr__',\n",
       " '__dict__',\n",
       " '__dir__',\n",
       " '__doc__',\n",
       " '__eq__',\n",
       " '__format__',\n",
       " '__ge__',\n",
       " '__getattribute__',\n",
       " '__gt__',\n",
       " '__hash__',\n",
       " '__init__',\n",
       " '__init_subclass__',\n",
       " '__le__',\n",
       " '__lt__',\n",
       " '__module__',\n",
       " '__ne__',\n",
       " '__new__',\n",
       " '__reduce__',\n",
       " '__reduce_ex__',\n",
       " '__repr__',\n",
       " '__setattr__',\n",
       " '__sizeof__',\n",
       " '__str__',\n",
       " '__subclasshook__',\n",
       " '__weakref__',\n",
       " '_keyVertices',\n",
       " '_pointOfReturnFork',\n",
       " '_preForkVertices',\n",
       " '_tipVertices',\n",
       " '_wingVertices',\n",
       " 'abundantTriangularExtension',\n",
       " 'arrow',\n",
       " 'cMatrix',\n",
       " 'digraph',\n",
       " 'disjointUnion',\n",
       " 'forklessPart',\n",
       " 'framedQuiver',\n",
       " 'frozenVertices',\n",
       " 'fullSubquiver',\n",
       " 'greens',\n",
       " 'hasFiniteForklessPart',\n",
       " 'hasFrozen',\n",
       " 'hasSinks',\n",
       " 'hasSources',\n",
       " 'hasZeroForklessPart',\n",
       " 'isAbundant',\n",
       " 'isAbundantAcyclic',\n",
       " 'isAcyclic',\n",
       " 'isComplete',\n",
       " 'isFork',\n",
       " 'isIsomorphicTo',\n",
       " 'isKey',\n",
       " 'isLabeledCycle',\n",
       " 'isPreFork',\n",
       " 'isReddeningSequence',\n",
       " 'isTip',\n",
       " 'isWing',\n",
       " 'isomorphicQuiver',\n",
       " 'mutableVertices',\n",
       " 'mutate',\n",
       " 'neighborhood',\n",
       " 'oppositeQuiver',\n",
       " 'plot',\n",
       " 'pointOfReturn',\n",
       " 'predecessor',\n",
       " 'preserveOptions',\n",
       " 'principalQuiver',\n",
       " 'reds',\n",
       " 'reflections',\n",
       " 'show',\n",
       " 'sinks',\n",
       " 'size',\n",
       " 'sizeMutable',\n",
       " 'sources',\n",
       " 'stopover',\n",
       " 'subquiverRemoveVertex',\n",
       " 'successor',\n",
       " 'triangularExtension',\n",
       " 'vertices']"
      ]
     },
     "execution_count": 13,
     "metadata": {
     },
     "output_type": "execute_result"
    }
   ],
   "source": [
    "load(\"quivers.sage\")\n",
    "dir(Quiver)"
   ]
  },
  {
   "cell_type": "code",
   "execution_count": 14,
   "metadata": {
    "collapsed": false
   },
   "outputs": [
    {
     "name": "stdout",
     "output_type": "stream",
     "text": [
      "[0]\n"
     ]
    }
   ],
   "source": [
    "# Code block that loads the file and initializes all the variables we'll need\n",
    "# Testing only on rank 4 for now, as that will allow us to look at all the types of quivers we need\n",
    "n = 4\n",
    "abundantM = matrix(([0,2,3,4],[-2,0,5,6],[-3,-5,0,7],[-4,-6,-7,0])) # rank 4 abundant acyclic\n",
    "cyclicM = matrix(([0,3,-3,3],[-3,0,3,3],[3,-3,0,3],[-3,-3,-3,0])) # rank 4 mutation-cyclic\n",
    "rank3test = [2,1,3,2,1,3,2,1,2,1,3,4,2,4] # Example mutation\n",
    "rank3back = [2,2,3,3,1,1,2,3] # Is not empty mutation\n",
    "rank3empty = []\n",
    "rank3equiv = [2,2,3,3,1,1,3,3,2,2] # Equivalent to empty matrix\n",
    "\n",
    "matrices = [abundantM, cyclicM] # list of matrices to try\n",
    "C = identity_matrix(n)\n",
    "matrices = matrices\n",
    "framedMatricesCols = [block_matrix([[B,C]]) for B in matrices]\n",
    "framedMatricesRows = [block_matrix([[B],[C]]) for B in matrices]\n",
    "mutations = [rank3test,rank3back,rank3empty,rank3equiv] # list of mutation sequences to try\n",
    "rowOptions = [\"cols\", \"rows\"] # Options for n x 2n or 2n x n of class\n",
    "orientOptions = [\"positive\", \"negative\"] # Options for orientation\n",
    "\n",
    "Q = Quiver() # Initializes the quiver on 1 vertex\n",
    "print(Q)\n",
    "\n",
    "mutationWorks = True # Variable to test if mutation works\n",
    "verticesWorks = True # Variable to test if code involving vertices works"
   ]
  },
  {
   "cell_type": "code",
   "execution_count": 15,
   "metadata": {
    "collapsed": false
   },
   "outputs": [
    {
     "name": "stdout",
     "output_type": "stream",
     "text": [
      "Mutation works as expected\n"
     ]
    }
   ],
   "source": [
    "# TESTS MUTATION\n",
    "\n",
    "for M in matrices:\n",
    "    for row in rowOptions:\n",
    "        for orient in orientOptions:\n",
    "            Q = Quiver(M,rowsOrCols = row, orientation = orient)\n",
    "            \n",
    "            if Q.matrix != M:\n",
    "                print(\"Matrix was not constructed for:\\n\", M, row, orient)\n",
    "                print(Q)\n",
    "                continue\n",
    "            \n",
    "            for w in mutations:\n",
    "                N = mMutation(M,w)\n",
    "                P = Q.mutate(w)\n",
    "                R = Quiver(N, rowsOrCols = row, orientation = orient)\n",
    "                if R != P:\n",
    "                    print(\"---------------------\")\n",
    "                    print(\"Mutation fails for: \")\n",
    "                    print(\"Matrix: \", M)\n",
    "                    print(\"Mutation: \", w)\n",
    "                    print(\"rowsOrCols: \", row)\n",
    "                    print(\"orientation: \", orient)\n",
    "                    mutationWorks = False\n",
    "                \n",
    "for M in framedMatricesRows:\n",
    "    for orient in orientOptions:\n",
    "        Q = Quiver(M,rowsOrCols = \"rows\", orientation = orient)\n",
    "        \n",
    "        if Q.matrix != M:\n",
    "            print(\"Matrix was not constructed for:\\n\", M, row, orient)\n",
    "            print(Q)\n",
    "            continue\n",
    "\n",
    "        for w in mutations:\n",
    "            N = mMutation(M,w)\n",
    "            P = Q.mutate(w)\n",
    "            if N != P.matrix:\n",
    "                print(\"---------------------\")\n",
    "                print(\"Mutation fails for: \")\n",
    "                print(\"Matrix: \", M)\n",
    "                print(\"Mutation: \", w)\n",
    "                print(\"rowsOrCols: \", row)\n",
    "                print(\"orientation: \", orient)\n",
    "                mutationWorks = False\n",
    "        \n",
    "for M in framedMatricesCols:\n",
    "    for orient in orientOptions:\n",
    "        Q = Quiver(M,rowsOrCols = \"cols\", orientation = orient)\n",
    "        \n",
    "        if Q.matrix != M:\n",
    "            print(\"Matrix was not constructed for:\\n\", M, row, orient)\n",
    "            print(Q)\n",
    "            continue\n",
    "\n",
    "        for w in mutations:\n",
    "            N = mMutation(M,w)\n",
    "            P = Q.mutate(w)\n",
    "            if N != P.matrix:\n",
    "                print(\"---------------------\")\n",
    "                print(\"Mutation fails for: \")\n",
    "                print(\"Matrix: \", M)\n",
    "                print(\"Mutation: \", w)\n",
    "                print(\"rowsOrCols: \", row)\n",
    "                print(\"orientation: \", orient)\n",
    "                mutationWorks = False\n",
    "                \n",
    "if mutationWorks:\n",
    "    print(\"Mutation works as expected\")\n",
    "else:\n",
    "    print(\"Something Broke\")\n",
    "                "
   ]
  },
  {
   "cell_type": "code",
   "execution_count": 16,
   "metadata": {
    "collapsed": false
   },
   "outputs": [
    {
     "name": "stdout",
     "output_type": "stream",
     "text": [
      "Functions work as intended\n"
     ]
    }
   ],
   "source": [
    "# TESTS SINK/SOURCE/STOPOVER FUNCTIONS\n",
    "\n",
    "for M in matrices:\n",
    "    for row in rowOptions:\n",
    "        for orient in orientOptions:\n",
    "            Q = Quiver(M,rowsOrCols = row, orientation = orient)\n",
    "            \n",
    "            if Q.matrix != M:\n",
    "                print(\"Matrix was not constructed for:\\n\", M, row, orient)\n",
    "                print(Q)\n",
    "                continue\n",
    "            \n",
    "            for w in mutations:\n",
    "                if orient == \"negative\":\n",
    "                    N = mMutation(-M,w)\n",
    "                else:\n",
    "                    N = mMutation(M,w)\n",
    "                P = Q.mutate(w)\n",
    "                sinks = tuple(sinkVertices(N))\n",
    "                sources = tuple(sourceVertices(N))\n",
    "                stover = [tuple(stopover(i,N,j)) for i in [1..n] for j in [1..n] if i != j]\n",
    "                stoverP = [P.stopover(i,j) for i in [1..n] for j in [1..n] if i != j]\n",
    "                if sinks != P.sinks or sources != P.sources or stover != stoverP:\n",
    "                    print(\"---------------------\")\n",
    "                    print(\"Fails for: \")\n",
    "                    print(\"Matrix: \\n\", M)\n",
    "                    print(\"Mutation: \", w)\n",
    "                    print(\"Mutated Matrix: \\n\", N)\n",
    "                    print(\"rowsOrCols: \", row)\n",
    "                    print(\"orientation: \", orient)\n",
    "                    print(sinks, P.sinks)\n",
    "                    print(sources,P.sources)\n",
    "                    print(stover, stoverP)\n",
    "                    verticesWorks = False\n",
    "                    \n",
    "for M in framedMatricesRows:\n",
    "    for orient in orientOptions:\n",
    "        Q = Quiver(M,rowsOrCols = \"rows\", orientation = orient)\n",
    "        if orient == \"negative\":\n",
    "            N = mMutation(-M,w)\n",
    "        else:\n",
    "            N = mMutation(M,w)\n",
    "        P = Q.mutate(w)\n",
    "        stover = [tuple(stopover(i,N,j)) for i in [1..n] for j in [1..n] if i != j]\n",
    "        stoverP = [P.stopover(i,j) for i in [1..n] for j in [1..n] if i != j]\n",
    "        if stover != stoverP:\n",
    "            print(\"---------------------\")\n",
    "            print(\"Fails for: \")\n",
    "            print(\"Matrix: \\n\", M)\n",
    "            print(\"Mutation: \", w)\n",
    "            print(\"Mutated Matrix: \\n\", N)\n",
    "            print(\"rowsOrCols: \", row)\n",
    "            print(\"orientation: \", orient)\n",
    "            verticesWorks = False\n",
    "        \n",
    "for M in framedMatricesCols:\n",
    "    for orient in orientOptions:\n",
    "        Q = Quiver(M,rowsOrCols = \"cols\", orientation = orient)\n",
    "        if orient == \"negative\":\n",
    "            N = mMutation(-M,w)\n",
    "        else:\n",
    "            N = mMutation(M,w)\n",
    "        P = Q.mutate(w)\n",
    "        stover = [tuple(stopover(i,N,j)) for i in [1..n] for j in [1..n] if i != j]\n",
    "        stoverP = [P.stopover(i,j) for i in [1..n] for j in [1..n] if i != j]\n",
    "        if stover != stoverP:\n",
    "            print(\"---------------------\")\n",
    "            print(\"Fails for: \")\n",
    "            print(\"Matrix: \\n\", M)\n",
    "            print(\"Mutation: \", w)\n",
    "            print(\"Mutated Matrix: \\n\", N)\n",
    "            print(\"rowsOrCols: \", row)\n",
    "            print(\"orientation: \", orient)\n",
    "            verticesWorks = False\n",
    "                \n",
    "if verticesWorks:\n",
    "    print(\"Functions work as intended\")\n",
    "else:\n",
    "    print(\"Something Broke\")"
   ]
  },
  {
   "cell_type": "code",
   "execution_count": 17,
   "metadata": {
    "collapsed": false
   },
   "outputs": [
   ],
   "source": [
    "for M in matrices:\n",
    "    for row in rowOptions:\n",
    "        for orient in orientOptions:\n",
    "            Q = Quiver(M,rowsOrCols = row, orientation = orient)\n",
    "            \n",
    "            "
   ]
  },
  {
   "cell_type": "code",
   "execution_count": 18,
   "metadata": {
    "collapsed": false
   },
   "outputs": [
    {
     "data": {
      "text/plain": [
       "[1, 2, 3]"
      ]
     },
     "execution_count": 18,
     "metadata": {
     },
     "output_type": "execute_result"
    }
   ],
   "source": [
    "[1..3]"
   ]
  },
  {
   "cell_type": "code",
   "execution_count": 19,
   "metadata": {
    "collapsed": false
   },
   "outputs": [
    {
     "data": {
      "text/plain": [
       "False"
      ]
     },
     "execution_count": 19,
     "metadata": {
     },
     "output_type": "execute_result"
    }
   ],
   "source": [
    "Q.hasSinks"
   ]
  },
  {
   "cell_type": "code",
   "execution_count": 1,
   "metadata": {
    "collapsed": false
   },
   "outputs": [
    {
     "data": {
      "image/png": "[encoded data removed]",
      "text/plain": [
       "Graphics object consisting of 10 graphics primitives"
      ]
     },
     "execution_count": 1,
     "metadata": {
     },
     "output_type": "execute_result"
    },
    {
     "name": "stdout",
     "output_type": "stream",
     "text": [
      "[                                 -3819445223276342591352                                   -115866322520643395972                                  -1274529530377162309117]\n",
      "[                      -141216696566093924424234654251400                        -28241653603750067241508906101019                       -308090793951777823115865638498040]\n",
      "[ 4984052780900683229941612992265713086634548816955476743   996751061338735788434543337000689399595212281742936280 10873648907702465108531930455924827895567274054182258221]\n",
      "[                                                                             0                        2533917132621017378605539375703363723641970129629855772 -89431186527584639654539206243117060579702165346034759072295462610711834675555|                                                       -3819445223276342591352                                                         -115866322520643395972                                                        -1274529530377162309117]\n",
      "[                      -2533917132621017378605539375703363723641970129629855772                                                                              0                                                        35293650836592026771371|                                            -141216696566093924424234654251400                                              -28241653603750067241508906101019                                             -308090793951777823115865638498040]\n",
      "[ 89431186527584639654539206243117060579702165346034759072295462610711834675555                                                       -35293650836592026771371                                                                              0|                       4984052780900683229941612992265713086634548816955476743                         996751061338735788434543337000689399595212281742936280                       10873648907702465108531930455924827895567274054182258221]\n"
     ]
    }
   ],
   "source": [
    "load(\"quivers.sage\")\n",
    "\n",
    "M = matrix(([0, -5, 3],[5, 0, -4],[-3,4,0]))\n",
    "N = block_matrix([[M,identity_matrix(3)]])\n",
    "Q = Quiver(M)\n",
    "Q.show()\n",
    "mutSeq = [1,2,2,3,2,1,2,3,2,1,2,3,2]\n",
    "print(Q.cMatrix(mutSeq))\n",
    "print(mMutation(N,mutSeq))"
   ]
  },
  {
   "cell_type": "code",
   "execution_count": 3,
   "metadata": {
    "collapsed": false,
    "scrolled": true
   },
   "outputs": [
    {
     "name": "stdout",
     "output_type": "stream",
     "text": [
      "\n",
      " [Quiver([ 0 -3  9| 5 18 15]\n",
      "[ 2  0 -4|-2 -7 -6]\n",
      "[-6  4  0| 0 -2 -1]), '3,2,1,2,3,2,3,2,1,2,3,3,2,1,2,3,3,2,1,2,3,2,3,2,1,2,3', '3,2,1,2,3,2,3,2,1,2,3', '2,3,2']\n",
      "\n",
      " [Quiver([ 0 -3  9| 5 18 15]\n",
      "[ 2  0 -4|-2 -7 -6]\n",
      "[-6  4  0| 0 -2 -1]), '3,2,1,2,3,2,3,2,1,2,3,2,3,2,1,2,3', '3,2,1,2,3,2,3,2,1,2,3', '2,3,2']\n"
     ]
    },
    {
     "data": {
      "text/plain": [
       "[\n",
       "Quiver([ 0 -3  9| 5 18 15]  [ -5 -18 -15]\n",
       "[ 2  0 -4|-2 -7 -6]         [  2   7   6]\n",
       "[-6  4  0| 0 -2 -1])      , [  0   2   1]\n",
       "]"
      ]
     },
     "execution_count": 3,
     "metadata": {
     },
     "output_type": "execute_result"
    }
   ],
   "source": [
    "load(\"quivers.sage\")\n",
    "\n",
    "## think the 1 forkless part due to iso morphism are special cases of something\n",
    "## idk what I was trying to show here, ignore this\n",
    "P = Quiver(matrix(([0, 3, -3],[-2, 0, 2],[2,-2,0])))\n",
    "print('\\n', P.reflections([2,3,2,1,2]))\n",
    "print('\\n', P.reflectionsCanceled([2,3,2,1,2]))\n",
    "P.calculateLMatrix([2,3,2,1,2], [3,2,1])\n"
   ]
  },
  {
   "cell_type": "code",
   "execution_count": 17,
   "metadata": {
    "collapsed": false
   },
   "outputs": [
    {
     "name": "stdout",
     "output_type": "stream",
     "text": [
      "[ 1  1  1]\n",
      "[ 0  5  5]\n",
      "[-5  0  2]\n",
      "[-5 -2  0]\n"
     ]
    },
    {
     "data": {
      "text/plain": [
       "[1, 4, 3, 2]"
      ]
     },
     "execution_count": 17,
     "metadata": {
     },
     "output_type": "execute_result"
    }
   ],
   "source": [
    "load(\"quivers.sage\")\n",
    "\n",
    "## think the 1 forkless part due to iso morphism are special cases of something\n",
    "## idk what I was trying to show here, ignore this\n",
    "P = Quiver(matrix(([0, 3, -4,-2],[-3, 0 , 5,5],[4,-5,0,2],[2,-5,-2,0])))\n",
    "P.getLinearOrdering()"
   ]
  },
  {
   "cell_type": "code",
   "execution_count": 3,
   "metadata": {
    "collapsed": false
   },
   "outputs": [
    {
     "name": "stdout",
     "output_type": "stream",
     "text": [
      "[  0  -5   3]\n",
      "[  5   0 -11]\n",
      "[ -3  11   0]\n"
     ]
    },
    {
     "data": {
      "text/plain": [
       "[x1*x3**52/(x2**5 + x3**3) + (x1**25*x3**55 + 5*x1**20*x2**25*x3**44 + 25*x1**20*x2**20*x3**47 + 50*x1**20*x2**15*x3**50 + 50*x1**20*x2**10*x3**53 + 25*x1**20*x2**5*x3**56 + 5*x1**20*x3**59 + 10*x1**15*x2**50*x3**33 + 100*x1**15*x2**45*x3**36 + 450*x1**15*x2**40*x3**39 + 1200*x1**15*x2**35*x3**42 + 2100*x1**15*x2**30*x3**45 + 2520*x1**15*x2**25*x3**48 + 2100*x1**15*x2**20*x3**51 + 1200*x1**15*x2**15*x3**54 + 450*x1**15*x2**10*x3**57 + 100*x1**15*x2**5*x3**60 + 10*x1**15*x3**63 + 10*x1**10*x2**75*x3**22 + 150*x1**10*x2**70*x3**25 + 1050*x1**10*x2**65*x3**28 + 4550*x1**10*x2**60*x3**31 + 13650*x1**10*x2**55*x3**34 + 30030*x1**10*x2**50*x3**37 + 50050*x1**10*x2**45*x3**40 + 64350*x1**10*x2**40*x3**43 + 64350*x1**10*x2**35*x3**46 + 50050*x1**10*x2**30*x3**49 + 30030*x1**10*x2**25*x3**52 + 13650*x1**10*x2**20*x3**55 + 4550*x1**10*x2**15*x3**58 + 1050*x1**10*x2**10*x3**61 + 150*x1**10*x2**5*x3**64 + 10*x1**10*x3**67 + 5*x1**5*x2**100*x3**11 + 100*x1**5*x2**95*x3**14 + 950*x1**5*x2**90*x3**17 + 5700*x1**5*x2**85*x3**20 + 24225*x1**5*x2**80*x3**23 + 77520*x1**5*x2**75*x3**26 + 193800*x1**5*x2**70*x3**29 + 387600*x1**5*x2**65*x3**32 + 629850*x1**5*x2**60*x3**35 + 839800*x1**5*x2**55*x3**38 + 923780*x1**5*x2**50*x3**41 + 839800*x1**5*x2**45*x3**44 + 629850*x1**5*x2**40*x3**47 + 387600*x1**5*x2**35*x3**50 + 193800*x1**5*x2**30*x3**53 + 77520*x1**5*x2**25*x3**56 + 24225*x1**5*x2**20*x3**59 + 5700*x1**5*x2**15*x3**62 + 950*x1**5*x2**10*x3**65 + 100*x1**5*x2**5*x3**68 + 5*x1**5*x3**71 + x2**125 + 25*x2**120*x3**3 + 300*x2**115*x3**6 + 2300*x2**110*x3**9 + 12650*x2**105*x3**12 + 53130*x2**100*x3**15 + 177100*x2**95*x3**18 + 480700*x2**90*x3**21 + 1081575*x2**85*x3**24 + 2042975*x2**80*x3**27 + 3268760*x2**75*x3**30 + 4457400*x2**70*x3**33 + 5200300*x2**65*x3**36 + 5200300*x2**60*x3**39 + 4457400*x2**55*x3**42 + 3268760*x2**50*x3**45 + 2042975*x2**45*x3**48 + 1081575*x2**40*x3**51 + 480700*x2**35*x3**54 + 177100*x2**30*x3**57 + 53130*x2**25*x3**60 + 12650*x2**20*x3**63 + 2300*x2**15*x3**66 + 300*x2**10*x3**69 + 25*x2**5*x3**72 + x3**75)/(x1**24*x2**10 + x1**24*x2**5*x3**3),\n",
       " x3**11/x2 + (x2**25 + 5*x2**20*x3**3 + 10*x2**15*x3**6 + 10*x2**10*x3**9 + 5*x2**5*x3**12 + x3**15)/(x1**5*x2),\n",
       " x3]"
      ]
     },
     "execution_count": 3,
     "metadata": {
     },
     "output_type": "execute_result"
    }
   ],
   "source": [
    "load(\"quivers.sage\")\n",
    "testQuiver = Quiver(matrix(([0, 5, -3],[-5, 0, 4],[3,-4,0])))\n",
    "x = testQuiver.mutate([1])\n",
    "print(x)\n",
    "calculateClusterVariables(testQuiver, [1,2,1])\n"
   ]
  },
  {
   "cell_type": "code",
   "execution_count": 4,
   "metadata": {
    "collapsed": false
   },
   "outputs": [
    {
     "name": "stdout",
     "output_type": "stream",
     "text": [
      "x1\n"
     ]
    }
   ],
   "source": [
    "import sympy\n",
    "test1 = sympy.symbols('x1')\n",
    "test2 = sympy.symbols('x2')\n",
    "test3 = sympy.symbols('x3')\n",
    "\n",
    "test2 = test2**5\n",
    "test3 = test3 ** 3\n",
    "\n",
    "finalTest = (test2 + test3)/((test2+test3)/test1)\n",
    "finalTest = sympy.simplify(finalTest)\n",
    "print(finalTest)"
   ]
  },
  {
   "cell_type": "code",
   "execution_count": 42,
   "metadata": {
    "collapsed": false
   },
   "outputs": [
    {
     "name": "stdout",
     "output_type": "stream",
     "text": [
      "[x1, x2, x3]\n"
     ]
    }
   ],
   "source": [
    "CV=[]\n",
    "for i in range(1,4):\n",
    "    CV.append(sympy.symbols('x'+str(i)))\n",
    "print(CV)"
   ]
  },
  {
   "cell_type": "code",
   "execution_count": 0,
   "metadata": {
    "collapsed": false
   },
   "outputs": [
   ],
   "source": [
   ]
  }
 ],
 "metadata": {
  "kernelspec": {
   "argv": [
    "sage-9.7",
    "--python",
    "-m",
    "sage.repl.ipython_kernel",
    "--matplotlib=inline",
    "-f",
    "{connection_file}"
   ],
   "display_name": "SageMath 9.7",
   "env": {
   },
   "language": "sagemath",
   "metadata": {
    "cocalc": {
     "description": "Open-source mathematical software system",
     "priority": 1,
     "url": "https://www.sagemath.org/"
    }
   },
   "name": "sage-9.7",
   "resource_dir": "/ext/jupyter/kernels/sage-9.7"
  },
  "language_info": {
   "codemirror_mode": {
    "name": "ipython",
    "version": 3
   },
   "file_extension": ".py",
   "mimetype": "text/x-python",
   "name": "python",
   "nbconvert_exporter": "python",
   "pygments_lexer": "ipython3",
   "version": "3.10.5"
  }
 },
 "nbformat": 4,
 "nbformat_minor": 4
}